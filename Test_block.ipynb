{
 "cells": [
  {
   "cell_type": "code",
   "execution_count": 2,
   "metadata": {},
   "outputs": [],
   "source": [
    "from tensorflow.keras import losses\n",
    "import tensorflow as tf\n",
    "import os\n",
    "from tensorflow.keras.models import load_model\n",
    "from tensorflow.keras.optimizers import Adam\n",
    "import numpy as np\n",
    "from sklearn.model_selection import train_test_split\n",
    "import matplotlib.pyplot as plt\n",
    "import cv2\n",
    "import rasterio as rs\n",
    "import fiona\n",
    "from osgeo import osr\n",
    "from fiona.crs import from_epsg\n",
    "from shapely.geometry import Point,mapping\n",
    "from skimage import filters\n",
    "from skimage.feature import blob_log\n",
    "from math import sqrt\n",
    "import earthpy.plot as ep\n",
    "\n",
    "from utility.postprocess import Binary, Find_threshold_otsu, Gaussian_filter"
   ]
  },
  {
   "cell_type": "code",
   "execution_count": null,
   "metadata": {},
   "outputs": [],
   "source": [
    "# Load the pre trained model\n",
    "model = load_model('./models/UNet.h5', compile=False)\n",
    "model.compile(optimizer=Adam(learning_rate=1e-5), loss = losses.binary_crossentropy, metrics =['binary_accuracy', 'Precision', 'Recall'])\n",
    "print(\"Model is loaded..\")"
   ]
  },
  {
   "cell_type": "code",
   "execution_count": 11,
   "metadata": {},
   "outputs": [],
   "source": [
    "# load test data.\n",
    "image = rs.open('./images/plot_12.tif')\n",
    "crs = image.crs\n",
    "transform = image.transform\n",
    "image_rgba = image.read([1,2,3,4])\n",
    "image = np.moveaxis(image_rgba, 0, -1)\n",
    "image = np.expand_dims(image, axis=0)"
   ]
  },
  {
   "cell_type": "code",
   "execution_count": null,
   "metadata": {},
   "outputs": [],
   "source": [
    "# make predictions\n",
    "pred = model.predict(image)\n",
    "pred = np.squeeze(pred, axis=0)\n",
    "# apply gaussian filter\n",
    "blur = Gaussian_filter(pred, sigma=1)\n",
    "# find otsu threshold\n",
    "t = Find_threshold_otsu(pred)\n",
    "# generate binary image\n",
    "binary = Binary(blur, t)\n",
    "# find blobs\n",
    "blobs_log = blob_log(binary, min_sigma=1, max_sigma=3, num_sigma=10, threshold=0.25, overlap=0.25, exclude_border = True)\n",
    "blobs_log[:, 2] = blobs_log[:, 2] * sqrt(2)"
   ]
  },
  {
   "cell_type": "code",
   "execution_count": null,
   "metadata": {},
   "outputs": [],
   "source": [
    "# empty list to store the values\n",
    "lon = []\n",
    "lat = []\n",
    "val = []\n",
    "# plot figure\n",
    "fig, ax = plt.subplots(ncols=3, nrows=1, figsize=(25, 25))\n",
    "band_indices = [3, 2, 1]\n",
    "ep.plot_rgb(\n",
    "    image_rgba.transpose([2,0,1]),\n",
    "    rgb=band_indices,\n",
    "    title=\"Satellite Image\",\n",
    "    stretch=True,\n",
    "    ax=ax[0]\n",
    ")\n",
    "ax[1].imshow(binary.squeeze(), cmap='binary')\n",
    "ax[1].set_title(\"Prediction\")\n",
    "# loop throw each blob and apply spatial transformation and add to the list\n",
    "for blob in blobs_log:\n",
    "    y, x, r = blob\n",
    "    c = plt.Circle((x, y), r+1, color='red', linewidth=2, fill=False)\n",
    "    y1, x1 = rs.transform.xy(transform=transform, rows=y, cols=x)\n",
    "    lon.append(x1)\n",
    "    lat.append(y1)\n",
    "    val.append(r)\n",
    "    ax[2].add_patch(c)\n",
    "ax[2].imshow(binary.squeeze(), cmap='binary')\n",
    "ax[2].set_title(\"No. of trees: \"+str(len(blobs_log)))\n",
    "plt.show()"
   ]
  },
  {
   "cell_type": "code",
   "execution_count": 125,
   "metadata": {},
   "outputs": [],
   "source": [
    "# save the result as tiff file\n",
    "with rs.open(\"results/res_2.tif\",\"w\",driver='GTiff', count=1, dtype=rs.uint16,width=image_rgba.shape[1],\n",
    "            height=image_rgba.shape[1], transform=transform, crs=crs) as raschip:\n",
    "    raschip.write(binary, 1)"
   ]
  },
  {
   "cell_type": "code",
   "execution_count": 126,
   "metadata": {},
   "outputs": [],
   "source": [
    "# create a dataframe\n",
    "point_df = np.column_stack([np.array(lat), np.array(lon), np.array(val)])\n",
    "schema = {\n",
    "    'geometry':'Point',\n",
    "    'properties':{'id': 'int','Value':'float:15.2'}\n",
    "}\n",
    "\n",
    "srs = osr.SpatialReference()\n",
    "srs.SetFromUserInput(\"EPSG:3857\")\n",
    "wgs84 = srs.ExportToProj4()\n",
    "\n",
    "with fiona.open(\"results/plt_2.geojson\", 'w', crs=wgs84, driver=\"GeoJSON\", schema=schema) as sink:\n",
    "    for i in range(len(point_df)):\n",
    "        point = Point(point_df[i,:2])\n",
    "        sink.write({\n",
    "            'geometry': mapping(point),\n",
    "            'properties': {'id': i+1, 'Value': point_df[i,2]},\n",
    "        })"
   ]
  }
 ],
 "metadata": {
  "interpreter": {
   "hash": "aebdf0f84caf4ad48d9e6338ed9ea0ff6654a7efc8b54812366ef90b844f1a4a"
  },
  "kernelspec": {
   "display_name": "Python 3.9.7 ('gdal')",
   "language": "python",
   "name": "python3"
  },
  "language_info": {
   "codemirror_mode": {
    "name": "ipython",
    "version": 3
   },
   "file_extension": ".py",
   "mimetype": "text/x-python",
   "name": "python",
   "nbconvert_exporter": "python",
   "pygments_lexer": "ipython3",
   "version": "3.9.7"
  },
  "orig_nbformat": 4
 },
 "nbformat": 4,
 "nbformat_minor": 2
}
